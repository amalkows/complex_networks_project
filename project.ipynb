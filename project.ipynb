{
 "cells": [
  {
   "cell_type": "code",
   "execution_count": null,
   "id": "126c6db1",
   "metadata": {},
   "outputs": [],
   "source": [
    "import scipy\n",
    "import matplotlib.pyplot as plt\n",
    "import numpy as np\n",
    "import seaborn as sns\n",
    "from tqdm.auto import tqdm"
   ]
  },
  {
   "cell_type": "code",
   "execution_count": null,
   "id": "de3ee970",
   "metadata": {},
   "outputs": [],
   "source": [
    "N = 2000\n",
    "m = 2\n",
    "e = pow(10, -3)\n",
    "F_param = -2.8\n",
    "delta_t = 1\n",
    "n = 10"
   ]
  },
  {
   "cell_type": "code",
   "execution_count": null,
   "id": "93056728",
   "metadata": {},
   "outputs": [],
   "source": [
    "def calc_activity(N):\n",
    "    return pow(np.random.uniform(\n",
    "        pow(e,F_param), pow(1,F_param), size=N\n",
    "    ), 1/F_param)*n"
   ]
  },
  {
   "cell_type": "code",
   "execution_count": null,
   "id": "696629b1",
   "metadata": {},
   "outputs": [],
   "source": [
    "activity_level_of_nodes = calc_activity(N)"
   ]
  },
  {
   "cell_type": "code",
   "execution_count": null,
   "id": "465a029b",
   "metadata": {},
   "outputs": [],
   "source": [
    "activity_level_of_nodes = calc_activity(N)\n",
    "res_agg = []\n",
    "for i in tqdm(range(10000)):\n",
    "    activity_level_of_nodes = calc_activity(N)\n",
    "    res_tmp, res2 = np.histogram(\n",
    "        activity_level_of_nodes, bins = np.linspace(e, 1, num = 50)\n",
    "    )  \n",
    "    res_agg.append(res_tmp)\n",
    "res_agg = np.array(res_agg).mean(axis = 0)\n",
    "res_agg = res_agg/res_agg.sum()\n",
    "\n",
    "plt.xlim(e, 1)\n",
    "# plt.xscale('log')\n",
    "plt.yscale('log')\n",
    "plt.xlabel('x')\n",
    "plt.ylabel('P(x)')\n",
    "\n",
    "plt.plot(res2[:-1], res_agg)\n",
    "\n",
    "plt.show()\n"
   ]
  },
  {
   "cell_type": "code",
   "execution_count": null,
   "id": "8567e7cd",
   "metadata": {},
   "outputs": [],
   "source": [
    "def sis_init(start_I_population_size = 5):\n",
    "    S = 0\n",
    "    I = 1\n",
    "    population = np.zeros(N).astype(int)\n",
    "    population[np.random.choice(N, start_I_population_size, False)] = 1\n",
    "    return population"
   ]
  },
  {
   "cell_type": "code",
   "execution_count": null,
   "id": "7cb95c68",
   "metadata": {},
   "outputs": [],
   "source": [
    "def adn_step(N, activity_level_of_nodes, m):\n",
    "    active_nodes = (\n",
    "        activity_level_of_nodes * delta_t > np.random.uniform(0, 1, N)\n",
    "    )\n",
    "    active_nodes = np.nonzero(active_nodes)[0]\n",
    "    edge_candidates = np.repeat(active_nodes, m)\n",
    "    edges = np.stack(\n",
    "        [edge_candidates, np.random.choice(range(N), len(edge_candidates))]\n",
    "    )\n",
    "    conflicts = edges[0] == edges[1]\n",
    "    while conflicts.sum():\n",
    "        edges[1][conflicts] = np.random.choice(range(N), conflicts.sum())\n",
    "        conflicts = edges[0] == edges[1]\n",
    "    edges = edges.transpose()\n",
    "    unique_edges = np.unique(np.sort(edges, axis=1), axis = 1)\n",
    "    \n",
    "    return unique_edges"
   ]
  },
  {
   "cell_type": "code",
   "execution_count": null,
   "id": "2be4ad16",
   "metadata": {},
   "outputs": [],
   "source": [
    "def sis_step(B, u, population, edges):\n",
    "    get_state_of_connected_people = np.vectorize(lambda x: population[x])\n",
    "\n",
    "    state_of_connected_people = np.sum(\n",
    "        get_state_of_connected_people(edges), axis = 1\n",
    "    )\n",
    "    SI_pairs = edges[np.where(state_of_connected_people==1)]\n",
    "    SI_pairs_to_change = SI_pairs[np.random.uniform(size=len(SI_pairs)) < B]\n",
    "    \n",
    "    \n",
    "    population[population == 1] = (\n",
    "        (np.random.uniform(size=population.sum()) > u) * 1\n",
    "    )\n",
    "    \n",
    "    population[SI_pairs_to_change.flatten()] = 1"
   ]
  },
  {
   "cell_type": "markdown",
   "id": "3154f4c7",
   "metadata": {},
   "source": [
    "## ADN simulation"
   ]
  },
  {
   "cell_type": "code",
   "execution_count": null,
   "id": "c9aad384",
   "metadata": {},
   "outputs": [],
   "source": [
    "for K in [1, 10, 20]:\n",
    "    cum_res = []\n",
    "\n",
    "    for index_of_try in tqdm(range(1000)):\n",
    "        activity_level_of_nodes = calc_activity(N)\n",
    "        res = adn_step(N, activity_level_of_nodes, m)\n",
    "        for i in tqdm(range(K-1), leave=False):\n",
    "            res = np.concatenate([res, adn_step(N, activity_level_of_nodes, m)])\n",
    "\n",
    "        res = np.unique(res, axis = 1)\n",
    "        _, node_degrees = np.unique(res.flatten(), return_counts=True)\n",
    "\n",
    "        cum_res.extend(node_degrees)\n",
    "\n",
    "    sizes, counts = np.unique(cum_res, return_counts = True)\n",
    "\n",
    "    plt.xlim(1, 100)\n",
    "    plt.ylim(10**(-6), 1)\n",
    "\n",
    "    plt.xscale('log')\n",
    "    plt.yscale('log')\n",
    "    plt.xlabel('k')\n",
    "    plt.ylabel('P(k)')\n",
    "    plt.plot(sizes, counts/len(cum_res))\n",
    "    plt.scatter(sizes, counts/len(cum_res), color='r')\n",
    "\n",
    "    plt.show()"
   ]
  },
  {
   "cell_type": "markdown",
   "id": "e9f6da40",
   "metadata": {},
   "source": [
    "## SIS simulation"
   ]
  },
  {
   "cell_type": "code",
   "execution_count": null,
   "id": "c42ba06a",
   "metadata": {},
   "outputs": [],
   "source": [
    "def SIS_full_simulate(B, u, start_population, m, N, max_time, plt_ax, cumulative = False, multiplicate = 1):\n",
    "    res = []\n",
    "    for _ in tqdm(range(multiplicate)):\n",
    "        activity_level_of_nodes = calc_activity(N)\n",
    "        population = sis_init(start_population)\n",
    "        infected_count = []\n",
    "        cumulative_edges = adn_step(N, activity_level_of_nodes, m)\n",
    "        for _ in tqdm(range(max_time-1), leave=False):\n",
    "            sis_step(B, u, population, cumulative_edges)\n",
    "            infected_count.append(population.sum())\n",
    "            edges = adn_step(N, activity_level_of_nodes, m)\n",
    "            if cumulative:\n",
    "                cumulative_edges = np.unique(np.concatenate([cumulative_edges, edges]), axis = 1)\n",
    "            else:\n",
    "                cumulative_edges = edges\n",
    "\n",
    "        res.append(np.array(infected_count))\n",
    "    res = np.mean(np.array(res), axis = 0)\n",
    "\n",
    "    plt_ax.set_title('B = ' + str(B) + ' u = ' + str(np.round(u, 2)))\n",
    "    plt_ax.set_xlabel('time')\n",
    "    plt_ax.set_ylabel('infected %')\n",
    "    plt_ax.plot(np.array(infected_count)/N)\n",
    "    return infected_count"
   ]
  },
  {
   "cell_type": "code",
   "execution_count": null,
   "id": "0638526f",
   "metadata": {
    "scrolled": false
   },
   "outputs": [],
   "source": [
    "N = 2000\n",
    "start_i = int(N * 0.1)\n",
    "m = 5\n",
    "max_time = 1000\n",
    "cumulative = False\n",
    "\n",
    "B = [0.1, 0.5, 0.9]\n",
    "u = [1/7, 1/14, 1/31]\n",
    "\n",
    "multiplicate = 100\n",
    "\n",
    "fig, axs = plt.subplots(len(B), len(u), figsize=(20, 20))\n",
    "\n",
    "\n",
    "for i_b, tmp_b in enumerate(B):\n",
    "    for i_u, tmp_u in enumerate(u):\n",
    "        SIS_full_simulate(\n",
    "            B = tmp_b, u = tmp_u, N = N, \n",
    "            start_population = start_i, m = m, max_time = max_time, \n",
    "            cumulative = cumulative,\n",
    "            plt_ax = axs[i_b, i_u],\n",
    "            multiplicate=multiplicate\n",
    "        )\n",
    "        \n",
    "fig.show()"
   ]
  },
  {
   "cell_type": "code",
   "execution_count": null,
   "id": "cfc074a7",
   "metadata": {},
   "outputs": [],
   "source": [
    "N = 2000\n",
    "start_i = int(N * 0.1)\n",
    "m = 5\n",
    "max_time = 150\n",
    "cumulative = True\n",
    "\n",
    "B = [0.1, 0.5, 0.9]\n",
    "u = [1/7, 1/14, 1/31]\n",
    "\n",
    "multiplicate = 5\n",
    "\n",
    "fig, axs = plt.subplots(len(B), len(u), figsize=(20, 20))\n",
    "\n",
    "\n",
    "for i_b, tmp_b in enumerate(B):\n",
    "    for i_u, tmp_u in enumerate(u):\n",
    "        SIS_full_simulate(\n",
    "            B = tmp_b, u = tmp_u, N = N, \n",
    "            start_population = start_i, m = m, max_time = max_time, \n",
    "            cumulative = cumulative,\n",
    "            plt_ax = axs[i_b, i_u],\n",
    "            multiplicate=multiplicate\n",
    "        )\n",
    "        \n",
    "fig.show()"
   ]
  },
  {
   "cell_type": "code",
   "execution_count": null,
   "id": "c05ed5c6",
   "metadata": {},
   "outputs": [],
   "source": [
    "N = 20000\n",
    "start_i = int(N * 0.1)\n",
    "m = 5\n",
    "max_time = 600\n",
    "cumulative = False\n",
    "\n",
    "B = [0.1, 0.5, 0.9]\n",
    "u = [1/7, 1/14, 1/31]\n",
    "\n",
    "multiplicate = 100\n",
    "\n",
    "fig, axs = plt.subplots(len(B), len(u), figsize=(20, 20))\n",
    "\n",
    "\n",
    "for i_b, tmp_b in enumerate(B):\n",
    "    for i_u, tmp_u in enumerate(u):\n",
    "        SIS_full_simulate(\n",
    "            B = tmp_b, u = tmp_u, N = N, \n",
    "            start_population = start_i, m = m, max_time = max_time, \n",
    "            cumulative = cumulative,\n",
    "            plt_ax = axs[i_b, i_u],\n",
    "            multiplicate=multiplicate\n",
    "        )\n",
    "        \n",
    "fig.show()"
   ]
  },
  {
   "cell_type": "code",
   "execution_count": null,
   "id": "e7a3c801",
   "metadata": {},
   "outputs": [],
   "source": [
    "N = 20000\n",
    "start_i = int(N * 0.1)\n",
    "m = 5\n",
    "max_time = 150\n",
    "cumulative = True\n",
    "\n",
    "B = [0.1, 0.5, 0.9]\n",
    "u = [1/7, 1/14, 1/31]\n",
    "\n",
    "multiplicate = 5\n",
    "\n",
    "fig, axs = plt.subplots(len(B), len(u), figsize=(20, 20))\n",
    "\n",
    "\n",
    "for i_b, tmp_b in enumerate(B):\n",
    "    for i_u, tmp_u in enumerate(u):\n",
    "        SIS_full_simulate(\n",
    "            B = tmp_b, u = tmp_u, N = N, \n",
    "            start_population = start_i, m = m, max_time = max_time, \n",
    "            cumulative = cumulative,\n",
    "            plt_ax = axs[i_b, i_u],\n",
    "            multiplicate=multiplicate\n",
    "        )\n",
    "        \n",
    "fig.show()"
   ]
  }
 ],
 "metadata": {
  "kernelspec": {
   "display_name": "Python (reccurent graph autoencoder)",
   "language": "python",
   "name": "rga"
  },
  "language_info": {
   "codemirror_mode": {
    "name": "ipython",
    "version": 3
   },
   "file_extension": ".py",
   "mimetype": "text/x-python",
   "name": "python",
   "nbconvert_exporter": "python",
   "pygments_lexer": "ipython3",
   "version": "3.9.0"
  }
 },
 "nbformat": 4,
 "nbformat_minor": 5
}
