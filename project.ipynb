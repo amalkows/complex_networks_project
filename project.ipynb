{
 "cells": [
  {
   "cell_type": "code",
   "execution_count": 338,
   "id": "126c6db1",
   "metadata": {},
   "outputs": [],
   "source": [
    "import scipy\n",
    "import matplotlib.pyplot as plt\n",
    "import numpy as np\n",
    "import seaborn as sns\n",
    "from tqdm.auto import tqdm"
   ]
  },
  {
   "cell_type": "code",
   "execution_count": 358,
   "id": "de3ee970",
   "metadata": {},
   "outputs": [],
   "source": [
    "N = 2000\n",
    "m = 2\n",
    "e = pow(10, -3)\n",
    "F_param = -2.8\n",
    "delta_t = 1\n",
    "n = 10"
   ]
  },
  {
   "cell_type": "code",
   "execution_count": 359,
   "id": "93056728",
   "metadata": {},
   "outputs": [],
   "source": [
    "def calc_activity():\n",
    "    return pow(np.random.uniform(\n",
    "        pow(e,F_param), pow(1,F_param), size=N\n",
    "    ), 1/F_param)*n"
   ]
  },
  {
   "cell_type": "code",
   "execution_count": 360,
   "id": "696629b1",
   "metadata": {},
   "outputs": [],
   "source": [
    "activity_level_of_nodes = calc_activity()"
   ]
  },
  {
   "cell_type": "code",
   "execution_count": 436,
   "id": "465a029b",
   "metadata": {},
   "outputs": [
    {
     "data": {
      "application/vnd.jupyter.widget-view+json": {
       "model_id": "7a16b4112f9a4c019e707a3897624ff3",
       "version_major": 2,
       "version_minor": 0
      },
      "text/plain": [
       "  0%|          | 0/10000 [00:00<?, ?it/s]"
      ]
     },
     "metadata": {},
     "output_type": "display_data"
    },
    {
     "data": {
      "image/png": "[encoded data removed]",
      "text/plain": [
       "<Figure size 432x288 with 1 Axes>"
      ]
     },
     "metadata": {
      "needs_background": "light"
     },
     "output_type": "display_data"
    }
   ],
   "source": [
    "activity_level_of_nodes = calc_activity()\n",
    "res_agg = []\n",
    "for i in tqdm(range(10000)):\n",
    "    activity_level_of_nodes = calc_activity()\n",
    "    res_tmp, res2 = np.histogram(\n",
    "        activity_level_of_nodes, bins = np.linspace(e, 1, num = 50)\n",
    "    )  \n",
    "    res_agg.append(res_tmp)\n",
    "res_agg = np.array(res_agg).mean(axis = 0)\n",
    "res_agg = res_agg/res_agg.sum()\n",
    "\n",
    "plt.xlim(e, 1)\n",
    "# plt.xscale('log')\n",
    "plt.yscale('log')\n",
    "plt.xlabel('x')\n",
    "plt.ylabel('P(x)')\n",
    "\n",
    "plt.plot(res2[:-1], res_agg)\n",
    "# plt.scatter(res2[:-1], res_agg, color='r')\n",
    "\n",
    "plt.show()\n"
   ]
  },
  {
   "cell_type": "code",
   "execution_count": 8,
   "id": "8567e7cd",
   "metadata": {},
   "outputs": [],
   "source": [
    "def sis_init(start_I_population_size = 5):\n",
    "    S = 0\n",
    "    I = 1\n",
    "    population = np.zeros(N).astype(int)\n",
    "    population[np.random.choice(N, start_I_population_size, False)] = 1\n",
    "    return population"
   ]
  },
  {
   "cell_type": "code",
   "execution_count": 12,
   "id": "7cb95c68",
   "metadata": {},
   "outputs": [],
   "source": [
    "def adn_step():\n",
    "    active_nodes = (\n",
    "        activity_level_of_nodes * delta_t > np.random.uniform(0, 1, N)\n",
    "    )\n",
    "    active_nodes = np.nonzero(active_nodes)[0]\n",
    "    edge_candidates = np.repeat(active_nodes, m)\n",
    "    edges = np.stack(\n",
    "        [edge_candidates, np.random.choice(range(N), len(edge_candidates))]\n",
    "    )\n",
    "    conflicts = edges[0] == edges[1]\n",
    "    while conflicts.sum():\n",
    "        edges[1][conflicts] = np.random.choice(range(N), conflicts.sum())\n",
    "        conflicts = edges[0] == edges[1]\n",
    "    edges = edges.transpose()\n",
    "    unique_edges = np.unique(np.sort(edges, axis=1), axis = 1)\n",
    "    \n",
    "    return unique_edges"
   ]
  },
  {
   "cell_type": "code",
   "execution_count": 13,
   "id": "2be4ad16",
   "metadata": {},
   "outputs": [],
   "source": [
    "get_state_of_connected_people = np.vectorize(lambda x: population[x])\n",
    "\n",
    "def sis_step(edges):\n",
    "    state_of_connected_people = np.sum(\n",
    "        get_state_of_connected_people(edges), axis = 1\n",
    "    )\n",
    "    SI_pairs = edges[np.where(state_of_connected_people==1)]\n",
    "    SI_pairs_to_change = SI_pairs[np.random.uniform(size=len(SI_pairs)) < B]\n",
    "    \n",
    "    \n",
    "    population[population == 1] = (\n",
    "        (np.random.uniform(size=population.sum()) > u) * 1\n",
    "    )\n",
    "    \n",
    "    population[SI_pairs_to_change.flatten()] = 1"
   ]
  },
  {
   "cell_type": "markdown",
   "id": "3154f4c7",
   "metadata": {},
   "source": [
    "## ADN simulation"
   ]
  },
  {
   "cell_type": "code",
   "execution_count": 444,
   "id": "c9aad384",
   "metadata": {},
   "outputs": [
    {
     "data": {
      "application/vnd.jupyter.widget-view+json": {
       "model_id": "f342d9206ef4473997ed337b10350b1e",
       "version_major": 2,
       "version_minor": 0
      },
      "text/plain": [
       "  0%|          | 0/1 [00:00<?, ?it/s]"
      ]
     },
     "metadata": {},
     "output_type": "display_data"
    },
    {
     "data": {
      "application/vnd.jupyter.widget-view+json": {
       "model_id": "",
       "version_major": 2,
       "version_minor": 0
      },
      "text/plain": [
       "0it [00:00, ?it/s]"
      ]
     },
     "metadata": {},
     "output_type": "display_data"
    },
    {
     "data": {
      "image/png": "[encoded data removed]",
      "text/plain": [
       "<Figure size 432x288 with 1 Axes>"
      ]
     },
     "metadata": {
      "needs_background": "light"
     },
     "output_type": "display_data"
    },
    {
     "data": {
      "application/vnd.jupyter.widget-view+json": {
       "model_id": "8ad235d3469c4492a5d8a3e41b84c2b1",
       "version_major": 2,
       "version_minor": 0
      },
      "text/plain": [
       "  0%|          | 0/1 [00:00<?, ?it/s]"
      ]
     },
     "metadata": {},
     "output_type": "display_data"
    },
    {
     "data": {
      "application/vnd.jupyter.widget-view+json": {
       "model_id": "",
       "version_major": 2,
       "version_minor": 0
      },
      "text/plain": [
       "  0%|          | 0/9 [00:00<?, ?it/s]"
      ]
     },
     "metadata": {},
     "output_type": "display_data"
    },
    {
     "data": {
      "image/png": "[encoded data removed]",
      "text/plain": [
       "<Figure size 432x288 with 1 Axes>"
      ]
     },
     "metadata": {
      "needs_background": "light"
     },
     "output_type": "display_data"
    },
    {
     "data": {
      "application/vnd.jupyter.widget-view+json": {
       "model_id": "2bcda69f6e17459ea984a9dd15006970",
       "version_major": 2,
       "version_minor": 0
      },
      "text/plain": [
       "  0%|          | 0/1 [00:00<?, ?it/s]"
      ]
     },
     "metadata": {},
     "output_type": "display_data"
    },
    {
     "data": {
      "application/vnd.jupyter.widget-view+json": {
       "model_id": "",
       "version_major": 2,
       "version_minor": 0
      },
      "text/plain": [
       "  0%|          | 0/19 [00:00<?, ?it/s]"
      ]
     },
     "metadata": {},
     "output_type": "display_data"
    },
    {
     "data": {
      "image/png": "[encoded data removed]",
      "text/plain": [
       "<Figure size 432x288 with 1 Axes>"
      ]
     },
     "metadata": {
      "needs_background": "light"
     },
     "output_type": "display_data"
    }
   ],
   "source": [
    "for K in [1, 10, 20]:\n",
    "    cum_res = []\n",
    "\n",
    "    for index_of_try in tqdm(range(1000)):\n",
    "        activity_level_of_nodes = calc_activity()\n",
    "        res = adn_step()\n",
    "        for i in tqdm(range(K-1), leave=False):\n",
    "            res = np.concatenate([res, adn_step()])\n",
    "\n",
    "        res = np.unique(res, axis = 1)\n",
    "        _, node_degrees = np.unique(res.flatten(), return_counts=True)\n",
    "\n",
    "        cum_res.extend(node_degrees)\n",
    "\n",
    "    sizes, counts = np.unique(cum_res, return_counts = True)\n",
    "\n",
    "    plt.xlim(1, max(sizes)*1.1)\n",
    "    plt.ylim(min(counts/len(cum_res))*0.7, 1)\n",
    "\n",
    "    plt.xscale('log')\n",
    "    plt.yscale('log')\n",
    "    plt.xlabel('k')\n",
    "    plt.ylabel('P(k)')\n",
    "    plt.plot(sizes, counts/len(cum_res))\n",
    "    plt.scatter(sizes, counts/len(cum_res), color='r')\n",
    "\n",
    "    plt.show()"
   ]
  },
  {
   "cell_type": "markdown",
   "id": "e9f6da40",
   "metadata": {},
   "source": [
    "## SIS simulation"
   ]
  },
  {
   "cell_type": "code",
   "execution_count": 447,
   "id": "0638526f",
   "metadata": {},
   "outputs": [],
   "source": [
    "B = 0.5\n",
    "u = 1/14\n",
    "N = 2000\n",
    "start_population = int(N * 0.1)\n",
    "m = 3\n",
    "max_time = 10"
   ]
  },
  {
   "cell_type": "code",
   "execution_count": 448,
   "id": "52a7f228",
   "metadata": {},
   "outputs": [
    {
     "data": {
      "application/vnd.jupyter.widget-view+json": {
       "model_id": "6e741ea72405425ca0a97a8437f11042",
       "version_major": 2,
       "version_minor": 0
      },
      "text/plain": [
       "  0%|          | 0/9 [00:00<?, ?it/s]"
      ]
     },
     "metadata": {},
     "output_type": "display_data"
    }
   ],
   "source": [
    "activity_level_of_nodes = calc_activity()\n",
    "population = sis_init(start_population)\n",
    "infected_count = []\n",
    "cumulative_edges = adn_step()\n",
    "for _ in tqdm(range(max_time-1)):\n",
    "    sis_step(cumulative_edges)\n",
    "    infected_count.append(population.sum())\n",
    "    edges = adn_step()\n",
    "    cumulative_edges = np.unique(np.concatenate([cumulative_edges, edges]), axis = 1)\n",
    "#     cumulative_edges = edges"
   ]
  },
  {
   "cell_type": "code",
   "execution_count": 449,
   "id": "5f882df8",
   "metadata": {},
   "outputs": [
    {
     "data": {
      "text/plain": [
       "[<matplotlib.lines.Line2D at 0x7f329a576970>]"
      ]
     },
     "execution_count": 449,
     "metadata": {},
     "output_type": "execute_result"
    },
    {
     "data": {
      "image/png": "[encoded data removed]",
      "text/plain": [
       "<Figure size 432x288 with 1 Axes>"
      ]
     },
     "metadata": {
      "needs_background": "light"
     },
     "output_type": "display_data"
    }
   ],
   "source": [
    "plt.plot(np.array(infected_count)/N)"
   ]
  },
  {
   "cell_type": "code",
   "execution_count": null,
   "id": "3c8790a7",
   "metadata": {},
   "outputs": [],
   "source": [
    "# badania dla roznych B i u\n",
    "# star population 10%\n",
    "# porownac bez usuwania polaczen co krok\n",
    "# wykres pk\n",
    "# wykres histogramu aktywnosci"
   ]
  }
 ],
 "metadata": {
  "kernelspec": {
   "display_name": "Python (reccurent graph autoencoder)",
   "language": "python",
   "name": "rga"
  },
  "language_info": {
   "codemirror_mode": {
    "name": "ipython",
    "version": 3
   },
   "file_extension": ".py",
   "mimetype": "text/x-python",
   "name": "python",
   "nbconvert_exporter": "python",
   "pygments_lexer": "ipython3",
   "version": "3.9.0"
  }
 },
 "nbformat": 4,
 "nbformat_minor": 5
}
